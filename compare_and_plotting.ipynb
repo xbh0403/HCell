{
 "cells": [
  {
   "cell_type": "code",
   "execution_count": 1,
   "metadata": {},
   "outputs": [],
   "source": [
    "import pandas as pd\n",
    "import numpy as np\n",
    "import time\n",
    "import scanpy as sc\n",
    "import torch\n",
    "import matplotlib.pyplot as plt\n",
    "import seaborn as sns\n",
    "import pickle\n",
    "from anndata import AnnData\n",
    "from anndata.experimental.pytorch import AnnLoader\n",
    "from sklearn.preprocessing import OneHotEncoder, LabelEncoder\n",
    "from sklearn.metrics import confusion_matrix, accuracy_score, f1_score, precision_score, recall_score\n",
    "from sklearn.decomposition import TruncatedSVD\n",
    "import sklearn\n",
    "import os\n",
    "import joblib\n",
    "\n",
    "import biomart\n",
    "import prototypical_network\n",
    "import helper_fns\n",
    "# import vanilla_vae\n",
    "from model import PL, Net, train, train_knn, train_logistic_regression"
   ]
  },
  {
   "cell_type": "code",
   "execution_count": 2,
   "metadata": {},
   "outputs": [],
   "source": [
    "dataset_celltypist = sc.read(\"./pre_processed_datasets/celltypist_pca.h5ad\")\n",
    "dataset_popv = sc.read(\"./pre_processed_datasets/popv_immune_pca.h5ad\")\n",
    "list_celltypes = dataset_celltypist.obs['Manually_curated_celltype'].unique().tolist()\n",
    "\n",
    "encoder_celltype = LabelEncoder()\n",
    "encoder_celltype.fit(dataset_celltypist.obs['Manually_curated_celltype'])\n",
    "\n",
    "list_ct = dataset_celltypist.obs['Manually_curated_celltype'].unique().tolist()\n",
    "list_num_ct = encoder_celltype.transform(list_ct)\n",
    "list_inner_nodes = ['Cross-tissue Immune Cell Atlas', 'B cell', 'Germinal center B cell', 'Myeloid', 'Dendritic cell',\n",
    "                    'Macrophages', 'Monocytes', 'T & Innate lymphoid cells', 'CD4', 'T Naive', 'CD8', \n",
    "                    'Tissue-resident memory T (Trm) cells', 'NK']\n",
    "all_nodes = list_ct + list_inner_nodes\n",
    "\n",
    "encoder_celltype_inner = LabelEncoder()\n",
    "encoder_celltype_inner.fit(list_inner_nodes)\n",
    "\n",
    "encoder_celltype_popv = LabelEncoder()\n",
    "encoder_celltype_popv.fit(dataset_popv.obs['cell_type'])\n",
    "\n",
    "g = helper_fns.build_hierarchical_tree_celltypist(all_nodes=all_nodes, list_ct=list_ct, list_inner_nodes=list_inner_nodes, encoder_celltype=encoder_celltype, encoder_celltype_inner=encoder_celltype_inner)\n",
    "\n",
    "dist_df = helper_fns.get_dist_df(list_num_ct=list_num_ct, g=g)\n",
    "D = torch.tensor(dist_df.values, dtype=float)\n",
    "\n",
    "# train_indices, test_indices, cv = helper_fns.costumized_train_test_split(dataset_celltypist, cross_validation=True, k_fold=5)\n",
    "cv = joblib.load(\"./results_0908/cv.pkl\")\n",
    "\n",
    "# train_subsampler = torch.utils.data.SubsetRandomSampler(train_indices)\n",
    "# test_subsampler = torch.utils.data.SubsetRandomSampler(test_indices)\n",
    "\n",
    "# Define data loaders for training and testing data in this fold\n",
    "encoders = {\n",
    "    'obs': {\n",
    "        'Manually_curated_celltype': encoder_celltype.transform\n",
    "    }\n",
    "}\n",
    "# dataloader_training = AnnLoader(dataset_celltypist, batch_size=512, convert=encoders, sampler=train_subsampler)\n",
    "# dataloader_testing = AnnLoader(dataset_celltypist, batch_size=512, convert=encoders, sampler=test_subsampler)\n",
    "\n",
    "train_subsamplers, test_subsamplers, dataloader_trainings, dataloader_testings = [], [], [], []\n",
    "for i in range(len(cv)):\n",
    "    train_subsamplers.append(torch.utils.data.SubsetRandomSampler(cv[i]['train']))\n",
    "    test_subsamplers.append(torch.utils.data.SubsetRandomSampler(cv[i]['test']))\n",
    "    dataloader_trainings.append(AnnLoader(dataset_celltypist, batch_size=512, convert=encoders, sampler=train_subsamplers[i]))\n",
    "    dataloader_testings.append(AnnLoader(dataset_celltypist, batch_size=512, convert=encoders, sampler=test_subsamplers[i]))"
   ]
  },
  {
   "cell_type": "code",
   "execution_count": 20,
   "metadata": {},
   "outputs": [
    {
     "name": "stdout",
     "output_type": "stream",
     "text": [
      "Fold: 0\n",
      "Train ER 7.00\n",
      "Test ER 8.06\n",
      "Train ER 6.90\n",
      "Test ER 8.24\n",
      "Fold: 1\n",
      "Train ER 6.82\n",
      "Test ER 8.23\n",
      "Train ER 6.89\n",
      "Test ER 8.24\n",
      "Fold: 2\n",
      "Train ER 6.87\n",
      "Test ER 8.28\n",
      "Train ER 7.01\n",
      "Test ER 8.24\n",
      "Fold: 3\n",
      "Train ER 6.93\n",
      "Test ER 8.05\n",
      "Train ER 6.94\n",
      "Test ER 8.08\n",
      "Fold: 4\n",
      "Train ER 6.91\n",
      "Test ER 8.27\n",
      "Train ER 6.98\n",
      "Test ER 8.15\n"
     ]
    }
   ],
   "source": [
    "results = pd.DataFrame(columns=['fold', 'model', 'accuracy', 'f1', 'recall', 'time', 'training_error', 'testing_error'])\n",
    "results_dict = {}\n",
    "\n",
    "for i in range(len(cv)):\n",
    "    print(\"Fold: {}\".format(i))\n",
    "    weights = helper_fns.get_weights(num_celltypes=len(list_num_ct), dataset=dataset_celltypist, encoder=encoder_celltype, obs='Manually_curated_celltype')\n",
    "    t0 = time.time()\n",
    "    model, error = train(mode='Proto_Net', loss_mode='disto_pl', epochs=50, embedding_dim=16, D=D, num_celltypes=list_num_ct, \n",
    "        encoder=encoder_celltype, dataset=dataset_celltypist, dataloader_training=dataloader_trainings[i], dataloader_testing=dataloader_testings[i], \n",
    "        obs_name='Manually_curated_celltype', init_weights=weights)\n",
    "    t1 = time.time()\n",
    "    preds, embeddings = model(torch.tensor(dataset_celltypist[cv[i]['test']].X))\n",
    "    preds = encoder_celltype.inverse_transform(preds.detach().cpu().numpy().argmax(axis=1))\n",
    "    results_dict['proto_disto_pl_fold_{}'.format(i)] = preds\n",
    "    results = pd.concat([results, pd.DataFrame({'fold': i, 'model': 'Proto_Net+disto_pl', \n",
    "        'accuracy': accuracy_score(dataset_celltypist.obs['Manually_curated_celltype'][cv[i]['test']], preds), \n",
    "        'recall': recall_score(dataset_celltypist.obs['Manually_curated_celltype'][cv[i]['test']], preds, average='weighted'), \n",
    "        'f1': f1_score(dataset_celltypist.obs['Manually_curated_celltype'][cv[i]['test']], preds, average='weighted'), \n",
    "        'time': t1-t0, 'training_error': error['train'], 'testing_error': error['test']}, index=[0])], axis=0)\n",
    "    \n",
    "    t0 = time.time()\n",
    "    model, error = train(mode='Proto_Net', loss_mode='disto', epochs=50, embedding_dim=16, D=D, num_celltypes=list_num_ct, \n",
    "        encoder=encoder_celltype, dataset=dataset_celltypist, dataloader_training=dataloader_trainings[i], dataloader_testing=dataloader_testings[i], \n",
    "        obs_name='Manually_curated_celltype', init_weights=weights)\n",
    "    t1 = time.time()\n",
    "    preds, embeddings = model(torch.tensor(dataset_celltypist[cv[i]['test']].X))\n",
    "    preds = encoder_celltype.inverse_transform(preds.detach().cpu().numpy().argmax(axis=1))\n",
    "    results_dict['proto_disto_fold_{}'.format(i)] = preds\n",
    "    results = pd.concat([results, pd.DataFrame({'fold': i, 'model': 'Proto_Net+disto', \n",
    "        'accuracy': accuracy_score(dataset_celltypist.obs['Manually_curated_celltype'][cv[i]['test']], preds), \n",
    "        'recall': recall_score(dataset_celltypist.obs['Manually_curated_celltype'][cv[i]['test']], preds, average='weighted'), \n",
    "        'f1': f1_score(dataset_celltypist.obs['Manually_curated_celltype'][cv[i]['test']], preds, average='weighted'), \n",
    "        'time': t1-t0, 'training_error': error['train'], 'testing_error': error['test']}, index=[0])], axis=0)\n",
    "\n",
    "    # t0 = time.time()\n",
    "    # model, error = train(mode='Proto_Net', loss_mode='pl', epochs=50, embedding_dim=16, D=D, num_celltypes=list_num_ct,\n",
    "    #     encoder=encoder_celltype, dataset=dataset_celltypist, dataloader_training=dataloader_trainings[i], dataloader_testing=dataloader_testings[i],\n",
    "    #     obs_name='Manually_curated_celltype', init_weights=weights)\n",
    "    # t1 = time.time()\n",
    "    # preds, embeddings = model(torch.tensor(dataset_celltypist[cv[i]['test']].X))\n",
    "    # preds = encoder_celltype.inverse_transform(preds.detach().cpu().numpy().argmax(axis=1))\n",
    "    # results_dict['proto_pl_fold_{}'.format(i)] = preds\n",
    "    # results = pd.concat([results, pd.DataFrame({'fold': i, 'model': 'Proto_Net+pl', \n",
    "    #     'accuracy': accuracy_score(dataset_celltypist.obs['Manually_curated_celltype'][cv[i]['test']], preds), \n",
    "    #     'recall': recall_score(dataset_celltypist.obs['Manually_curated_celltype'][cv[i]['test']], preds, average='weighted'), \n",
    "    #     'f1': f1_score(dataset_celltypist.obs['Manually_curated_celltype'][cv[i]['test']], preds, average='weighted'), \n",
    "    #     'time': t1-t0, 'training_error': error['train'], 'testing_error': error['test']}, index=[0])], axis=0)\n",
    "\n",
    "    # t0 = time.time()\n",
    "    # model, error = train(mode='Proto_Net', loss_mode='', epochs=50, embedding_dim=16, D=D, num_celltypes=list_num_ct,\n",
    "    #     encoder=encoder_celltype, dataset=dataset_celltypist, dataloader_training=dataloader_trainings[i], dataloader_testing=dataloader_testings[i],\n",
    "    #     obs_name='Manually_curated_celltype', init_weights=weights)\n",
    "    # t1 = time.time()\n",
    "    # preds, embeddings = model(torch.tensor(dataset_celltypist[cv[i]['test']].X))\n",
    "    # preds = encoder_celltype.inverse_transform(preds.detach().cpu().numpy().argmax(axis=1))\n",
    "    # results_dict['proto_fold_{}'.format(i)] = preds\n",
    "    # results = pd.concat([results, pd.DataFrame({'fold': i, 'model': 'Proto_Net', \n",
    "    #     'accuracy': accuracy_score(dataset_celltypist.obs['Manually_curated_celltype'][cv[i]['test']], preds), \n",
    "    #     'recall': recall_score(dataset_celltypist.obs['Manually_curated_celltype'][cv[i]['test']], preds, average='weighted'), \n",
    "    #     'f1': f1_score(dataset_celltypist.obs['Manually_curated_celltype'][cv[i]['test']], preds, average='weighted'), \n",
    "    #     'time': t1-t0, 'training_error': error['train'], 'testing_error': error['test']}, index=[0])], axis=0)\n",
    "\n",
    "    # t0 = time.time()\n",
    "    # model, error = train(mode='Net', loss_mode='', epochs=30, embedding_dim=16, D=D, num_celltypes=list_num_ct, \n",
    "    #     encoder=encoder_celltype, dataset=dataset_celltypist, dataloader_training=dataloader_trainings[i], dataloader_testing=dataloader_testings[i], \n",
    "    #     obs_name='Manually_curated_celltype', init_weights=weights)\n",
    "    # t1 = time.time()\n",
    "    # preds = model(torch.tensor(dataset_celltypist[cv[i]['test']].X))\n",
    "    # preds = encoder_celltype.inverse_transform(preds.detach().cpu().numpy().argmax(axis=1))\n",
    "    # results_dict['Net_fold_{}'.format(i)] = preds\n",
    "    # results = pd.concat([results, pd.DataFrame({'fold': i, 'model': 'Net', \n",
    "    #     'accuracy': accuracy_score(dataset_celltypist.obs['Manually_curated_celltype'][cv[i]['test']], preds), \n",
    "    #     'recall': recall_score(dataset_celltypist.obs['Manually_curated_celltype'][cv[i]['test']], preds, average='weighted'), \n",
    "    #     'f1': f1_score(dataset_celltypist.obs['Manually_curated_celltype'][cv[i]['test']], preds, average='weighted'), \n",
    "    #     'time': t1-t0, 'training_error': error['train'], 'testing_error': error['test']}, index=[0])], axis=0)\n",
    "    \n",
    "    # t0 = time.time()\n",
    "    # model, error = train_logistic_regression(dataset=dataset_celltypist, train_indices=cv[i]['train'], test_indices=cv[i]['test'], encoder=encoder_celltype, obs_name='Manually_curated_celltype')\n",
    "    # t1 = time.time()\n",
    "    # preds = model.predict(dataset_celltypist[cv[i]['test']].X)\n",
    "    # preds = encoder_celltype.inverse_transform(preds)\n",
    "    # results_dict['logistic_fold_{}'.format(i)] = preds\n",
    "    # results = pd.concat([results, pd.DataFrame({'fold': i, 'model': 'Logistic Regression',\n",
    "    #     'accuracy': accuracy_score(dataset_celltypist.obs['Manually_curated_celltype'][cv[i]['test']], preds), \n",
    "    #     'recall': recall_score(dataset_celltypist.obs['Manually_curated_celltype'][cv[i]['test']], preds, average='weighted'), \n",
    "    #     'f1': f1_score(dataset_celltypist.obs['Manually_curated_celltype'][cv[i]['test']], preds, average='weighted'), \n",
    "    #     'time': t1-t0, 'training_error': error['train'], 'testing_error': error['test']}, index=[0])], axis=0)\n",
    "    \n",
    "    # t0 = time.time()\n",
    "    # model = train_knn(dataset=dataset_celltypist, train_indices=cv[i]['train'], test_indices=cv[i]['test'], encoder=encoder_celltype, obs_name='Manually_curated_celltype')\n",
    "    # t1 = time.time()\n",
    "    # preds_train = model.predict(dataset_celltypist[cv[i]['train']].X)\n",
    "    # preds_train = encoder_celltype.inverse_transform(preds_train)\n",
    "    # preds = model.predict(dataset_celltypist[cv[i]['test']].X)\n",
    "    # preds = encoder_celltype.inverse_transform(preds)\n",
    "    # results_dict['knn_fold_{}'.format(i)] = preds\n",
    "    # results = pd.concat([results, pd.DataFrame({'fold': i, 'model': 'KNN',\n",
    "    #     'accuracy': accuracy_score(dataset_celltypist.obs['Manually_curated_celltype'][cv[i]['test']], preds), \n",
    "    #     'recall': recall_score(dataset_celltypist.obs['Manually_curated_celltype'][cv[i]['test']], preds, average='weighted'), \n",
    "    #     'f1': f1_score(dataset_celltypist.obs['Manually_curated_celltype'][cv[i]['test']], preds, average='weighted'), \n",
    "    #     'time': t1-t0, 'training_error':1 - accuracy_score(dataset_celltypist.obs['Manually_curated_celltype'][cv[i]['train']], preds_train), \n",
    "    #     'testing_error': 1 - accuracy_score(dataset_celltypist.obs['Manually_curated_celltype'][cv[i]['test']], preds)}, index=[0])], axis=0)"
   ]
  },
  {
   "cell_type": "code",
   "execution_count": 21,
   "metadata": {},
   "outputs": [],
   "source": [
    "results_0 = pd.read_csv(\"./results_0908/celltypist_results.csv\")\n",
    "results_1 = pd.concat([results_0, results], axis=0)\n",
    "results_1.to_csv(\"./results_0908/celltypist_results.csv\", index=False)"
   ]
  },
  {
   "cell_type": "code",
   "execution_count": 22,
   "metadata": {},
   "outputs": [
    {
     "data": {
      "text/plain": [
       "['./results_0908/celltypist_results_dict.pkl']"
      ]
     },
     "execution_count": 22,
     "metadata": {},
     "output_type": "execute_result"
    }
   ],
   "source": [
    "dict_0 = joblib.load(\"./results_0908/celltypist_results_dict.pkl\")\n",
    "for key in results_dict.keys():\n",
    "    dict_0[key] = results_dict[key]\n",
    "joblib.dump(dict_0, \"./results_0908/celltypist_results_dict.pkl\")"
   ]
  },
  {
   "cell_type": "code",
   "execution_count": 5,
   "metadata": {},
   "outputs": [
    {
     "name": "stdout",
     "output_type": "stream",
     "text": [
      "FULL MODEL Fold 1:\n",
      "\n",
      "Train ER 7.16\n",
      "Test ER 7.94\n",
      "FULL MODEL Fold 2:\n",
      "\n",
      "Train ER 7.11\n",
      "Test ER 8.20\n",
      "FULL MODEL Fold 3:\n",
      "\n",
      "Train ER 7.23\n",
      "Test ER 8.13\n",
      "FULL MODEL Fold 4:\n",
      "\n",
      "Train ER 7.11\n",
      "Test ER 8.04\n",
      "FULL MODEL Fold 5:\n",
      "\n",
      "Train ER 7.06\n",
      "Test ER 8.25\n",
      "ProtoNet+Distortion Fold 1:\n",
      "\n",
      "Train ER 7.02\n",
      "Test ER 7.93\n",
      "ProtoNet+Distortion Fold 2:\n",
      "\n",
      "Train ER 7.09\n",
      "Test ER 8.21\n",
      "ProtoNet+Distortion Fold 3:\n",
      "\n",
      "Train ER 7.18\n",
      "Test ER 8.02\n",
      "ProtoNet+Distortion Fold 4:\n",
      "\n",
      "Train ER 7.16\n",
      "Test ER 7.98\n",
      "ProtoNet+Distortion Fold 5:\n",
      "\n",
      "Train ER 7.11\n",
      "Test ER 8.17\n",
      "net Fold 1:\n",
      "\n",
      "Train ER 7.13\n",
      "Test ER 8.05\n",
      "net Fold 2:\n",
      "\n",
      "Train ER 7.04\n",
      "Test ER 8.21\n",
      "net Fold 3:\n",
      "\n",
      "Train ER 7.16\n",
      "Test ER 8.32\n",
      "net Fold 4:\n",
      "\n",
      "Train ER 7.27\n",
      "Test ER 8.12\n",
      "net Fold 5:\n",
      "\n",
      "Train ER 7.04\n",
      "Test ER 8.22\n"
     ]
    }
   ],
   "source": [
    "# FULL MODEL (ProtoNet+Distortion+PL)\n",
    "# Check if 0908/full_model/ is available\n",
    "# if not os.path.exists('./0908/full_model/'):\n",
    "#     os.makedirs('./0908/full_model/')\n",
    "full_model_list = []\n",
    "for i in range(len(cv)):\n",
    "    print(\"FULL MODEL Fold {}:\".format(i+1))\n",
    "    print()\n",
    "    weights = helper_fns.get_weights(num_celltypes=len(list_num_ct), dataset=dataset_celltypist, encoder=encoder_celltype, obs='Manually_curated_celltype')\n",
    "    model, error = train(mode='Proto_Net', loss_mode='disto_pl', epochs=30, embedding_dim=16, D=D, num_celltypes=list_num_ct, \n",
    "        encoder=encoder_celltype, dataset=dataset_celltypist, dataloader_training=dataloader_trainings[i], dataloader_testing=dataloader_testings[i], \n",
    "        obs_name='Manually_curated_celltype', init_weights=weights)\n",
    "    full_model_list.append({'model': model, 'error': error})\n",
    "    # torch.save(model.state_dict(), './0908/full_model/fold_{}.pt'.format(i+1))\n",
    "    # embedding_prototypes, embedding_prototypes_labels = helper_fns.get_prototypes_and_labels(model=model, encoder=encoder_celltype, num_celltypes=len(list_num_ct))\n",
    "\n",
    "# ProtoNet+Distortion\n",
    "# Check if 0908/proto_disto/ is available\n",
    "# if not os.path.exists('./0908/proto_disto/'):\n",
    "#     os.makedirs('./0908/proto_disto/')\n",
    "proto_disto_list = []\n",
    "for i in range(len(cv)):\n",
    "    print(\"ProtoNet+Distortion Fold {}:\".format(i+1))\n",
    "    print()\n",
    "    weights = helper_fns.get_weights(num_celltypes=len(list_num_ct), dataset=dataset_celltypist, encoder=encoder_celltype, obs='Manually_curated_celltype')\n",
    "    model, error = train(mode='Proto_Net', loss_mode='disto', epochs=30, embedding_dim=16, D=D, num_celltypes=list_num_ct, \n",
    "        encoder=encoder_celltype, dataset=dataset_celltypist, dataloader_training=dataloader_trainings[i], dataloader_testing=dataloader_testings[i], \n",
    "        obs_name='Manually_curated_celltype', init_weights=weights)\n",
    "    proto_disto_list.append({'model': model, 'error': error})\n",
    "    # torch.save(model.state_dict(), './0908/proto_disto/fold_{}.pt'.format(i+1))\n",
    "    # embedding_prototypes, embedding_prototypes_labels = helper_fns.get_prototypes_and_labels(model=model, encoder=encoder_celltype, num_celltypes=len(list_num_ct))\n",
    "\n",
    "# NET\n",
    "# Check if 0908/net/ is available\n",
    "# if not os.path.exists('./0908/net/'):\n",
    "#     os.makedirs('./0908/net/')\n",
    "net_list = []\n",
    "for i in range(len(cv)):\n",
    "    print(\"net Fold {}:\".format(i+1))\n",
    "    print()\n",
    "    weights = helper_fns.get_weights(num_celltypes=len(list_num_ct), dataset=dataset_celltypist, encoder=encoder_celltype, obs='Manually_curated_celltype')\n",
    "    model, error = train(mode='Net', loss_mode='', epochs=30, embedding_dim=16, D=D, num_celltypes=list_num_ct, \n",
    "        encoder=encoder_celltype, dataset=dataset_celltypist, dataloader_training=dataloader_trainings[i], dataloader_testing=dataloader_testings[i], \n",
    "        obs_name='Manually_curated_celltype', init_weights=weights)\n",
    "    net_list.append({'model': model, 'error': error})\n",
    "    # torch.save(model.state_dict(), './0908/net/fold_{}.pt'.format(i+1))\n",
    "    # embedding_prototypes, embedding_prototypes_labels = helper_fns.get_prototypes_and_labels(model=model, encoder=encoder_celltype, num_celltypes=len(list_num_ct))"
   ]
  },
  {
   "cell_type": "code",
   "execution_count": 11,
   "metadata": {},
   "outputs": [],
   "source": [
    "# Save all the models\n",
    "torch.save(full_model_list, './results_0908/full_model.pt')\n",
    "torch.save(proto_disto_list, './results_0908/proto_disto.pt')\n",
    "torch.save(net_list, './results_0908/net.pt')"
   ]
  },
  {
   "cell_type": "code",
   "execution_count": 14,
   "metadata": {},
   "outputs": [
    {
     "name": "stdout",
     "output_type": "stream",
     "text": [
      "Logistic Fold 1:\n",
      "\n"
     ]
    },
    {
     "name": "stderr",
     "output_type": "stream",
     "text": [
      "/Users/xbh0403/opt/anaconda3/lib/python3.9/site-packages/sklearn/linear_model/_logistic.py:814: ConvergenceWarning: lbfgs failed to converge (status=1):\n",
      "STOP: TOTAL NO. of ITERATIONS REACHED LIMIT.\n",
      "\n",
      "Increase the number of iterations (max_iter) or scale the data as shown in:\n",
      "    https://scikit-learn.org/stable/modules/preprocessing.html\n",
      "Please also refer to the documentation for alternative solver options:\n",
      "    https://scikit-learn.org/stable/modules/linear_model.html#logistic-regression\n",
      "  n_iter_i = _check_optimize_result(\n"
     ]
    },
    {
     "name": "stdout",
     "output_type": "stream",
     "text": [
      "Logistic Regression\n",
      "Train error: 7.9167156805081795%\n",
      "Test error: 8.448649157488465%\n",
      "Logistic Fold 2:\n",
      "\n"
     ]
    },
    {
     "name": "stderr",
     "output_type": "stream",
     "text": [
      "/Users/xbh0403/opt/anaconda3/lib/python3.9/site-packages/sklearn/linear_model/_logistic.py:814: ConvergenceWarning: lbfgs failed to converge (status=1):\n",
      "STOP: TOTAL NO. of ITERATIONS REACHED LIMIT.\n",
      "\n",
      "Increase the number of iterations (max_iter) or scale the data as shown in:\n",
      "    https://scikit-learn.org/stable/modules/preprocessing.html\n",
      "Please also refer to the documentation for alternative solver options:\n",
      "    https://scikit-learn.org/stable/modules/linear_model.html#logistic-regression\n",
      "  n_iter_i = _check_optimize_result(\n"
     ]
    },
    {
     "name": "stdout",
     "output_type": "stream",
     "text": [
      "Logistic Regression\n",
      "Train error: 7.889660039995294%\n",
      "Test error: 8.534939910257622%\n",
      "Logistic Fold 3:\n",
      "\n"
     ]
    },
    {
     "name": "stderr",
     "output_type": "stream",
     "text": [
      "/Users/xbh0403/opt/anaconda3/lib/python3.9/site-packages/sklearn/linear_model/_logistic.py:814: ConvergenceWarning: lbfgs failed to converge (status=1):\n",
      "STOP: TOTAL NO. of ITERATIONS REACHED LIMIT.\n",
      "\n",
      "Increase the number of iterations (max_iter) or scale the data as shown in:\n",
      "    https://scikit-learn.org/stable/modules/preprocessing.html\n",
      "Please also refer to the documentation for alternative solver options:\n",
      "    https://scikit-learn.org/stable/modules/linear_model.html#logistic-regression\n",
      "  n_iter_i = _check_optimize_result(\n"
     ]
    },
    {
     "name": "stdout",
     "output_type": "stream",
     "text": [
      "Logistic Regression\n",
      "Train error: 7.891620593655646%\n",
      "Test error: 8.472182999152778%\n",
      "Logistic Fold 4:\n",
      "\n"
     ]
    },
    {
     "name": "stderr",
     "output_type": "stream",
     "text": [
      "/Users/xbh0403/opt/anaconda3/lib/python3.9/site-packages/sklearn/linear_model/_logistic.py:814: ConvergenceWarning: lbfgs failed to converge (status=1):\n",
      "STOP: TOTAL NO. of ITERATIONS REACHED LIMIT.\n",
      "\n",
      "Increase the number of iterations (max_iter) or scale the data as shown in:\n",
      "    https://scikit-learn.org/stable/modules/preprocessing.html\n",
      "Please also refer to the documentation for alternative solver options:\n",
      "    https://scikit-learn.org/stable/modules/linear_model.html#logistic-regression\n",
      "  n_iter_i = _check_optimize_result(\n"
     ]
    },
    {
     "name": "stdout",
     "output_type": "stream",
     "text": [
      "Logistic Regression\n",
      "Train error: 7.937105438575854%\n",
      "Test error: 8.250964887508239%\n",
      "Logistic Fold 5:\n",
      "\n",
      "Logistic Regression\n",
      "Train error: 7.870446614123827%\n",
      "Test error: 8.520819605259033%\n"
     ]
    },
    {
     "name": "stderr",
     "output_type": "stream",
     "text": [
      "/Users/xbh0403/opt/anaconda3/lib/python3.9/site-packages/sklearn/linear_model/_logistic.py:814: ConvergenceWarning: lbfgs failed to converge (status=1):\n",
      "STOP: TOTAL NO. of ITERATIONS REACHED LIMIT.\n",
      "\n",
      "Increase the number of iterations (max_iter) or scale the data as shown in:\n",
      "    https://scikit-learn.org/stable/modules/preprocessing.html\n",
      "Please also refer to the documentation for alternative solver options:\n",
      "    https://scikit-learn.org/stable/modules/linear_model.html#logistic-regression\n",
      "  n_iter_i = _check_optimize_result(\n"
     ]
    }
   ],
   "source": [
    "# Logistic\n",
    "# Check if 0908/logistic/ is available\n",
    "# if not os.path.exists('./0908/logistic/'):\n",
    "#     os.makedirs('./0908/logistic/')\n",
    "logistic_list = []\n",
    "for i in range(len(cv)):\n",
    "    print(\"Logistic Fold {}:\".format(i+1))\n",
    "    print()\n",
    "    model = train_logistic_regression(dataset=dataset_celltypist, train_indices=cv[i]['train'], test_indices=cv[i]['test'], encoder=encoder_celltype, obs_name='Manually_curated_celltype')\n",
    "    logistic_list.append(model)\n",
    "    # Save the sklearn logistic regression model\n",
    "    # joblib.dump(model, './0908/logistic/fold_{}.pkl'.format(i+1))"
   ]
  },
  {
   "cell_type": "code",
   "execution_count": 16,
   "metadata": {},
   "outputs": [
    {
     "data": {
      "text/plain": [
       "{'train': 7.163863074932361, 'test': 7.941887100316923}"
      ]
     },
     "execution_count": 16,
     "metadata": {},
     "output_type": "execute_result"
    }
   ],
   "source": [
    "full_model_list[0]['error']"
   ]
  },
  {
   "cell_type": "code",
   "execution_count": 15,
   "metadata": {},
   "outputs": [],
   "source": [
    "# Save the cv variable\n",
    "with open('./results_0908/cv.pkl', 'wb') as f:\n",
    "    pickle.dump(cv, f)\n"
   ]
  },
  {
   "cell_type": "code",
   "execution_count": 15,
   "metadata": {},
   "outputs": [
    {
     "data": {
      "text/plain": [
       "[LogisticRegression(max_iter=1000, multi_class='multinomial', random_state=0),\n",
       " LogisticRegression(max_iter=1000, multi_class='multinomial', random_state=0),\n",
       " LogisticRegression(max_iter=1000, multi_class='multinomial', random_state=0),\n",
       " LogisticRegression(max_iter=1000, multi_class='multinomial', random_state=0),\n",
       " LogisticRegression(max_iter=1000, multi_class='multinomial', random_state=0)]"
      ]
     },
     "execution_count": 15,
     "metadata": {},
     "output_type": "execute_result"
    }
   ],
   "source": [
    "results = pd.DataFrame(columns=['Model', 'Fold', 'Accuracy', 'Error', 'F1'])\n",
    "for i in range(len(cv)):\n",
    "    for j in range():\n",
    "        if j == 0:\n"
   ]
  },
  {
   "cell_type": "code",
   "execution_count": 7,
   "metadata": {},
   "outputs": [],
   "source": [
    "# for i in range(len(cv)):\n",
    "i=0\n",
    "model_full = full_model_list[i]['model']\n",
    "model_proto_disto = proto_disto_list[i]['model']\n",
    "model_net = net_list[i]['model']\n",
    "# model_logistic = logistic_list[i]\n",
    "\n",
    "# Get the predictions\n",
    "pred_full, embeddings = model_full(torch.tensor(dataset_celltypist[cv[i]['test']].X))\n",
    "pred_full = pred_full.detach().cpu().numpy()\n",
    "pred = encoder_celltype.inverse_transform(pred_full.argmax(axis=1))\n",
    "pred_proto_disto, embeddings = model_proto_disto(torch.tensor(dataset_celltypist[cv[i]['test']].X))\n",
    "pred_proto_disto = pred_proto_disto.detach().cpu().numpy()\n",
    "pred_proto_disto = encoder_celltype.inverse_transform(pred_proto_disto.argmax(axis=1))\n",
    "pred_net = model_net(torch.tensor(dataset_celltypist[cv[i]['test']].X))\n",
    "pred_net = pred_net.detach().cpu().numpy()\n",
    "pred_net = encoder_celltype.inverse_transform(pred_net.argmax(axis=1))\n",
    "# pred_logistic = model_logistic.predict(dataset_celltypist[cv[i]['test']].X)"
   ]
  },
  {
   "cell_type": "code",
   "execution_count": 9,
   "metadata": {},
   "outputs": [
    {
     "name": "stderr",
     "output_type": "stream",
     "text": [
      "/Users/xbh0403/opt/anaconda3/lib/python3.9/site-packages/sklearn/linear_model/_logistic.py:814: ConvergenceWarning: lbfgs failed to converge (status=1):\n",
      "STOP: TOTAL NO. of ITERATIONS REACHED LIMIT.\n",
      "\n",
      "Increase the number of iterations (max_iter) or scale the data as shown in:\n",
      "    https://scikit-learn.org/stable/modules/preprocessing.html\n",
      "Please also refer to the documentation for alternative solver options:\n",
      "    https://scikit-learn.org/stable/modules/linear_model.html#logistic-regression\n",
      "  n_iter_i = _check_optimize_result(\n"
     ]
    },
    {
     "name": "stdout",
     "output_type": "stream",
     "text": [
      "Logistic Regression\n",
      "Train error: 7.881033603889742%\n",
      "Test error: 8.45806269415419%\n",
      "kNN\n",
      "Train error: 7.686546680782658%\n",
      "Test error: 10.916564686686126%\n"
     ]
    }
   ],
   "source": [
    "model_logistic = train_logistic_regression(dataset=dataset_celltypist, train_indices=train_indices, test_indices=test_indices, encoder=encoder_celltype, obs_name='Manually_curated_celltype')\n",
    "model_knn = train_knn(dataset=dataset_celltypist, train_indices=train_indices, test_indices=test_indices, encoder=encoder_celltype, obs_name='Manually_curated_celltype')"
   ]
  },
  {
   "cell_type": "code",
   "execution_count": 67,
   "metadata": {},
   "outputs": [],
   "source": [
    "def get_f1_score(model, dataset, encoder, obs_name, test_indices):\n",
    "    if type(model) != sklearn.linear_model._logistic.LogisticRegression and type(model) != sklearn.neighbors._classification.KNeighborsClassifier:\n",
    "        model.eval()\n",
    "        with torch.no_grad():\n",
    "            X = dataset.X[test_indices]\n",
    "            y = encoder.transform(dataset.obs[obs_name].values[test_indices])\n",
    "            result = model(torch.tensor(X))\n",
    "            if type(result) == tuple:\n",
    "                y_pred = result[0].argmax(dim=1)\n",
    "            else:\n",
    "                y_pred = result.argmax(dim=1)\n",
    "            f1 = f1_score(y, y_pred, average='weighted')\n",
    "    else:\n",
    "        X = dataset.X[test_indices]\n",
    "        y = encoder.transform(dataset.obs[obs_name].values[test_indices])\n",
    "        y_pred = model.predict(X)\n",
    "        f1 = f1_score(y, y_pred, average='weighted')\n",
    "    return f1"
   ]
  },
  {
   "cell_type": "code",
   "execution_count": 71,
   "metadata": {},
   "outputs": [],
   "source": [
    "# Calculate F1 score for each model\n",
    "f1_score_model_0 = get_f1_score(model=model_0, dataset=dataset_celltypist, encoder=encoder_celltype, test_indices=test_indices, obs_name='Manually_curated_celltype')\n",
    "f1_score_model_1 = get_f1_score(model=model_1, dataset=dataset_celltypist, encoder=encoder_celltype, test_indices=test_indices, obs_name='Manually_curated_celltype')\n",
    "f1_score_model_2 = get_f1_score(model=model_2, dataset=dataset_celltypist, encoder=encoder_celltype, test_indices=test_indices, obs_name='Manually_curated_celltype')\n",
    "f1_score_logistic = get_f1_score(model=model_logistic, dataset=dataset_celltypist, encoder=encoder_celltype, test_indices=test_indices, obs_name='Manually_curated_celltype')\n",
    "f1_score_knn = get_f1_score(model=model_knn, dataset=dataset_celltypist, encoder=encoder_celltype, test_indices=test_indices, obs_name='Manually_curated_celltype')"
   ]
  },
  {
   "cell_type": "code",
   "execution_count": 72,
   "metadata": {},
   "outputs": [
    {
     "name": "stdout",
     "output_type": "stream",
     "text": [
      "f1_score_model_0:  0.9184782219264718 f1_score_model_1:  0.9183989066952325 f1_score_model_2:  0.9180448890375801 f1_score_logistic:  0.9149239075419503 f1_score_knn:  0.8897609953013745\n"
     ]
    }
   ],
   "source": [
    "print(\"f1_score_model_0: \", f1_score_model_0, \"f1_score_model_1: \", f1_score_model_1, \"f1_score_model_2: \", f1_score_model_2, \"f1_score_logistic: \", f1_score_logistic, \"f1_score_knn: \", f1_score_knn)"
   ]
  },
  {
   "cell_type": "code",
   "execution_count": 5,
   "metadata": {},
   "outputs": [],
   "source": [
    "train_celltypes = ['Memory B cells', 'Naive B cells', 'Tfh', 'Plasma cells', 'Tregs']\n",
    "test_celltypes = ['memory B cell', 'naive B cell', 'T follicular helper cell', 'plasma cell', 'regulatory T cell']"
   ]
  },
  {
   "cell_type": "code",
   "execution_count": 6,
   "metadata": {},
   "outputs": [],
   "source": [
    "train_embeddings, training_preds = helper_fns.get_embeddings_and_out(model, dataset_celltypist_pca[train_indices], encoder=encoder_celltype)\n",
    "test_embeddings, test_preds = helper_fns.get_embeddings_and_out(model, dataset_popv_pca, encoder=encoder_celltype)\n",
    "prototypes, prototypes_labels = helper_fns.get_prototypes_and_labels(model, encoder=encoder_celltype, num_celltypes=len(list_num_ct))"
   ]
  },
  {
   "cell_type": "code",
   "execution_count": 17,
   "metadata": {},
   "outputs": [],
   "source": [
    "def plot_dist_histogram(dict, graph, list_ct, list_inner_nodes, encoder_celltype, encoder_celltype_inner, save, model):\n",
    "    true_label = dict['Celltype']\n",
    "    # true_label = 'Memory B cells'\n",
    "    dist_list = []\n",
    "    for key in dict.keys():\n",
    "        if key != 'Celltype' and key != 'true_positive_rate':\n",
    "            dist = helper_fns.get_shortest_dist(helper_fns.transform(key, list_ct, list_inner_nodes, encoder_celltype, encoder_celltype_inner),\n",
    "                helper_fns.transform(true_label, list_ct, list_inner_nodes, encoder_celltype, encoder_celltype_inner), graph)\n",
    "            for i in range(int(dict[key])):\n",
    "                dist_list.append(dist)\n",
    "    print(np.array(dist_list).mean())\n",
    "    sns.displot(dist_list)\n",
    "    # Add label to the plot\n",
    "    plt.title(true_label)\n",
    "    if save:\n",
    "        plt.savefig('./plots_dist/histogram_' + model + true_label + '.png')\n",
    "    else:\n",
    "        plt.show()"
   ]
  },
  {
   "cell_type": "code",
   "execution_count": 19,
   "metadata": {},
   "outputs": [
    {
     "name": "stdout",
     "output_type": "stream",
     "text": [
      "OUR MODEL\n",
      "\n",
      "\n",
      "True positive memory B cell: 86.82699668282726%\n",
      "{'Naive B cells': 933, 'ABCs': 718, 'Plasma cells': 61, 'DC2': 50, 'Tregs': 49, 'Plasmablasts': 44, 'GC_B (I)': 36, 'Tfh': 33, 'Cycling T&NK': 22, 'ILC3': 20, 'GC_B (II)': 20, 'Pre-B': 10, 'Tgd_CRTAM+': 7, 'Tnaive/CM_CD4': 7, 'Pro-B': 7, 'Teffector/EM_CD4': 6, 'Classical monocytes': 6, 'Cycling': 6, 'T_CD4/CD8': 5, 'Trm/em_CD8': 5, 'Tnaive/CM_CD8': 4, 'Erythrophagocytic macrophages': 4, 'Intestinal macrophages': 2, 'DC1': 2, 'Alveolar macrophages': 2, 'migDC': 2, 'Tem/emra_CD8': 2, 'Trm_Th1/Th17': 1, 'Intermediate macrophages': 1}\n",
      "2.3501210653753026\n"
     ]
    },
    {
     "data": {
      "image/png": "[encoded data removed]",
      "text/plain": [
       "<Figure size 360x360 with 1 Axes>"
      ]
     },
     "metadata": {
      "needs_background": "light"
     },
     "output_type": "display_data"
    },
    {
     "name": "stdout",
     "output_type": "stream",
     "text": [
      "\n",
      "\n",
      "True positive naive B cell: 94.51264605827541%\n",
      "{'Memory B cells': 320, 'ABCs': 20, 'DC2': 8, 'Tnaive/CM_CD4': 4, 'Plasmablasts': 3, 'NK_CD16+': 2, 'Cycling': 2, 'Pre-B': 2, 'Plasma cells': 2, 'Tnaive/CM_CD8': 1, 'ILC3': 1, 'Teffector/EM_CD4': 1, 'Tregs': 1, 'Tem/emra_CD8': 1, 'Classical monocytes': 1, 'Cycling T&NK': 1, 'NK_CD56bright_CD16-': 1}\n",
      "2.1940700808625335\n"
     ]
    },
    {
     "data": {
      "image/png": "[encoded data removed]",
      "text/plain": [
       "<Figure size 360x360 with 1 Axes>"
      ]
     },
     "metadata": {
      "needs_background": "light"
     },
     "output_type": "display_data"
    },
    {
     "name": "stdout",
     "output_type": "stream",
     "text": [
      "\n",
      "\n",
      "True positive T follicular helper cell: 27.386934673366838%\n",
      "{'Tnaive/CM_CD4': 149, 'Teffector/EM_CD4': 85, 'Trm_Th1/Th17': 32, 'Tregs': 13, 'Tnaive/CM_CD8': 7, 'Trm_gut_CD8': 1, 'T_CD4/CD8': 1, 'MAIT': 1}\n",
      "2.58477508650519\n"
     ]
    },
    {
     "data": {
      "image/png": "[encoded data removed]",
      "text/plain": [
       "<Figure size 360x360 with 1 Axes>"
      ]
     },
     "metadata": {
      "needs_background": "light"
     },
     "output_type": "display_data"
    },
    {
     "name": "stdout",
     "output_type": "stream",
     "text": [
      "\n",
      "\n",
      "True positive plasma cell: 58.47553053269814%\n",
      "{'Plasmablasts': 4150, 'NK_CD16+': 510, 'NK_CD56bright_CD16-': 32, 'Memory B cells': 13, 'Cycling': 12, 'ILC3': 11, 'Trm/em_CD8': 9, 'Cycling T&NK': 7, 'Alveolar macrophages': 6, 'ABCs': 5, 'Teffector/EM_CD4': 5, 'Naive B cells': 4, 'Trm_Th1/Th17': 4, 'GC_B (I)': 3, 'T_CD4/CD8': 3, 'Pro-B': 3, 'Intestinal macrophages': 3, 'Tem/emra_CD8': 3, 'Pre-B': 2, 'Classical monocytes': 2, 'Trm_Tgd': 2, 'MAIT': 1, 'Intermediate macrophages': 1, 'Nonclassical monocytes': 1, 'DC2': 1, 'Erythrophagocytic macrophages': 1}\n",
      "2.3798498122653315\n"
     ]
    },
    {
     "data": {
      "image/png": "[encoded data removed]",
      "text/plain": [
       "<Figure size 360x360 with 1 Axes>"
      ]
     },
     "metadata": {
      "needs_background": "light"
     },
     "output_type": "display_data"
    },
    {
     "name": "stdout",
     "output_type": "stream",
     "text": [
      "\n",
      "\n",
      "True positive regulatory T cell: 83.34612432847275%\n",
      "{'Cycling T&NK': 63, 'Teffector/EM_CD4': 36, 'Tfh': 33, 'Tnaive/CM_CD4': 21, 'Memory B cells': 18, 'Trm/em_CD8': 12, 'Trm_Th1/Th17': 12, 'ILC3': 5, 'Tgd_CRTAM+': 4, 'T_CD4/CD8': 3, 'MAIT': 3, 'NK_CD56bright_CD16-': 2, 'Tnaive/CM_CD4_activated': 1, 'Classical monocytes': 1, 'Naive B cells': 1, 'Plasma cells': 1, 'Tnaive/CM_CD8': 1}\n",
      "2.9815668202764978\n"
     ]
    },
    {
     "data": {
      "image/png": "[encoded data removed]",
      "text/plain": [
       "<Figure size 360x360 with 1 Axes>"
      ]
     },
     "metadata": {
      "needs_background": "light"
     },
     "output_type": "display_data"
    },
    {
     "name": "stdout",
     "output_type": "stream",
     "text": [
      "\n",
      "\n",
      "Logistic Regression\n",
      "\n",
      "\n",
      "True positive memory B cell: 86.5335544781832%\n",
      "{'Naive B cells': 910, 'ABCs': 692, 'DC2': 95, 'GC_B (I)': 84, 'Pro-B': 79, 'Tregs': 54, 'Plasmablasts': 37, 'GC_B (II)': 33, 'Plasma cells': 30, 'Tfh': 12, 'ILC3': 10, 'Tnaive/CM_CD4': 10, 'Trm/em_CD8': 8, 'Tnaive/CM_CD8': 7, 'T_CD4/CD8': 6, 'Cycling': 6, 'Cycling T&NK': 6, 'migDC': 6, 'Classical monocytes': 5, 'Teffector/EM_CD4': 4, 'Erythrophagocytic macrophages': 4, 'Alveolar macrophages': 3, 'Tem/emra_CD8': 3, 'Pre-B': 3, 'DC1': 2, 'Trm_Th1/Th17': 1, 'Intermediate macrophages': 1}\n",
      "2.396020843202274\n"
     ]
    },
    {
     "data": {
      "image/png": "[encoded data removed]",
      "text/plain": [
       "<Figure size 360x360 with 1 Axes>"
      ]
     },
     "metadata": {
      "needs_background": "light"
     },
     "output_type": "display_data"
    },
    {
     "name": "stdout",
     "output_type": "stream",
     "text": [
      "\n",
      "\n",
      "True positive naive B cell: 94.71971601834048%\n",
      "{'Memory B cells': 318, 'ABCs': 13, 'Tnaive/CM_CD4': 5, 'Pro-B': 4, 'DC2': 3, 'GC_B (I)': 2, 'Classical monocytes': 2, 'Plasmablasts': 2, 'Tnaive/CM_CD8': 1, 'Trm/em_CD8': 1, 'NK_CD16+': 1, 'Tem/emra_CD8': 1, 'GC_B (II)': 1, 'Tregs': 1, 'Cycling': 1, 'Plasma cells': 1}\n",
      "2.156862745098039\n"
     ]
    },
    {
     "data": {
      "image/png": "[encoded data removed]",
      "text/plain": [
       "<Figure size 360x360 with 1 Axes>"
      ]
     },
     "metadata": {
      "needs_background": "light"
     },
     "output_type": "display_data"
    },
    {
     "name": "stdout",
     "output_type": "stream",
     "text": [
      "\n",
      "\n",
      "True positive T follicular helper cell: 28.391959798994975%\n",
      "{'Tnaive/CM_CD4': 154, 'Teffector/EM_CD4': 84, 'Trm_Th1/Th17': 26, 'Tregs': 9, 'Tnaive/CM_CD8': 7, 'Trm_gut_CD8': 3, 'T_CD4/CD8': 1, 'Trm/em_CD8': 1}\n",
      "2.635087719298246\n"
     ]
    },
    {
     "data": {
      "image/png": "[encoded data removed]",
      "text/plain": [
       "<Figure size 360x360 with 1 Axes>"
      ]
     },
     "metadata": {
      "needs_background": "light"
     },
     "output_type": "display_data"
    },
    {
     "name": "stdout",
     "output_type": "stream",
     "text": [
      "\n",
      "\n",
      "True positive plasma cell: 59.02122130792551%\n",
      "{'Plasmablasts': 4076, 'NK_CD16+': 507, 'NK_CD56bright_CD16-': 32, 'Cycling': 18, 'GC_B (I)': 15, 'Memory B cells': 14, 'DC2': 11, 'ILC3': 8, 'Classical monocytes': 6, 'ABCs': 5, 'Tem/emra_CD8': 5, 'Cycling T&NK': 5, 'Alveolar macrophages': 5, 'Tnaive/CM_CD4': 3, 'Trm_Th1/Th17': 3, 'Intestinal macrophages': 3, 'Erythrophagocytic macrophages': 3, 'Naive B cells': 2, 'T_CD4/CD8': 2, 'Tregs': 1, 'Pro-B': 1, 'GC_B (II)': 1, 'Teffector/EM_CD4': 1, 'MAIT': 1, 'DC1': 1, 'Trm/em_CD8': 1, 'Intermediate macrophages': 1}\n",
      "2.3885013739167196\n"
     ]
    },
    {
     "data": {
      "image/png": "[encoded data removed]",
      "text/plain": [
       "<Figure size 360x360 with 1 Axes>"
      ]
     },
     "metadata": {
      "needs_background": "light"
     },
     "output_type": "display_data"
    },
    {
     "name": "stdout",
     "output_type": "stream",
     "text": [
      "\n",
      "\n",
      "True positive regulatory T cell: 83.49961627014582%\n",
      "{'Cycling T&NK': 61, 'Tfh': 43, 'Teffector/EM_CD4': 31, 'Tnaive/CM_CD4': 26, 'Trm/em_CD8': 11, 'Memory B cells': 9, 'Trm_Th1/Th17': 9, 'Pro-B': 8, 'MAIT': 4, 'Tgd_CRTAM+': 3, 'ILC3': 3, 'Tnaive/CM_CD4_activated': 2, 'Naive B cells': 1, 'Classical monocytes': 1, 'NK_CD56bright_CD16-': 1, 'Plasma cells': 1, 'Tnaive/CM_CD8': 1}\n",
      "2.9488372093023254\n"
     ]
    },
    {
     "data": {
      "image/png": "[encoded data removed]",
      "text/plain": [
       "<Figure size 360x360 with 1 Axes>"
      ]
     },
     "metadata": {
      "needs_background": "light"
     },
     "output_type": "display_data"
    },
    {
     "name": "stdout",
     "output_type": "stream",
     "text": [
      "\n",
      "\n",
      "kNN\n",
      "\n",
      "\n",
      "True positive memory B cell: 91.57310538402653%\n",
      "{'Naive B cells': 733, 'ABCs': 215, 'Plasmablasts': 63, 'GC_B (I)': 51, 'Tregs': 43, 'DC2': 37, 'GC_B (II)': 28, 'Teffector/EM_CD4': 21, 'Plasma cells': 21, 'Classical monocytes': 16, 'Tnaive/CM_CD4': 13, 'T_CD4/CD8': 12, 'ILC3': 11, 'Tfh': 11, 'Tem/emra_CD8': 10, 'Cycling T&NK': 7, 'Cycling': 6, 'Tnaive/CM_CD8': 6, 'Trm/em_CD8': 5, 'Erythrophagocytic macrophages': 5, 'Pro-B': 3, 'migDC': 2, 'Intestinal macrophages': 1, 'Tnaive/CM_CD4_activated': 1}\n",
      "2.5170325510976532\n"
     ]
    },
    {
     "data": {
      "image/png": "[encoded data removed]",
      "text/plain": [
       "<Figure size 360x360 with 1 Axes>"
      ]
     },
     "metadata": {
      "needs_background": "light"
     },
     "output_type": "display_data"
    },
    {
     "name": "stdout",
     "output_type": "stream",
     "text": [
      "\n",
      "\n",
      "True positive naive B cell: 92.5159000147907%\n",
      "{'Memory B cells': 481, 'Classical monocytes': 5, 'Tem/emra_CD8': 4, 'Tnaive/CM_CD4': 4, 'ABCs': 3, 'Plasmablasts': 3, 'NK_CD16+': 2, 'Tnaive/CM_CD8': 1, 'T_CD4/CD8': 1, 'GC_B (I)': 1, 'Plasma cells': 1}\n",
      "2.108695652173913\n"
     ]
    },
    {
     "data": {
      "image/png": "[encoded data removed]",
      "text/plain": [
       "<Figure size 360x360 with 1 Axes>"
      ]
     },
     "metadata": {
      "needs_background": "light"
     },
     "output_type": "display_data"
    },
    {
     "name": "stdout",
     "output_type": "stream",
     "text": [
      "\n",
      "\n",
      "True positive T follicular helper cell: 23.869346733668344%\n",
      "{'Tnaive/CM_CD4': 191, 'Teffector/EM_CD4': 57, 'Trm_Th1/Th17': 18, 'Tregs': 16, 'Tnaive/CM_CD8': 11, 'T_CD4/CD8': 6, 'Trm_gut_CD8': 2, 'MAIT': 2}\n",
      "2.7557755775577557\n"
     ]
    },
    {
     "data": {
      "image/png": "[encoded data removed]",
      "text/plain": [
       "<Figure size 360x360 with 1 Axes>"
      ]
     },
     "metadata": {
      "needs_background": "light"
     },
     "output_type": "display_data"
    },
    {
     "name": "stdout",
     "output_type": "stream",
     "text": [
      "\n",
      "\n",
      "True positive plasma cell: 57.58336942399307%\n",
      "{'Plasmablasts': 4250, 'NK_CD16+': 526, 'T_CD4/CD8': 17, 'Tem/emra_CD8': 17, 'NK_CD56bright_CD16-': 15, 'Memory B cells': 11, 'Alveolar macrophages': 11, 'Cycling T&NK': 8, 'GC_B (I)': 6, 'DC2': 6, 'Trm/em_CD8': 5, 'Naive B cells': 4, 'ABCs': 4, 'Classical monocytes': 4, 'Cycling': 2, 'Trm_Th1/Th17': 2, 'Intestinal macrophages': 2, 'Erythrophagocytic macrophages': 2, 'GC_B (II)': 1, 'Tgd_CRTAM+': 1, 'ILC3': 1, 'Teffector/EM_CD4': 1, 'Tregs': 1}\n",
      "2.3771696957320807\n"
     ]
    },
    {
     "data": {
      "image/png": "[encoded data removed]",
      "text/plain": [
       "<Figure size 360x360 with 1 Axes>"
      ]
     },
     "metadata": {
      "needs_background": "light"
     },
     "output_type": "display_data"
    },
    {
     "name": "stdout",
     "output_type": "stream",
     "text": [
      "\n",
      "\n",
      "True positive regulatory T cell: 73.67613200306984%\n",
      "{'Tfh': 96, 'Tnaive/CM_CD4': 71, 'Cycling T&NK': 64, 'Teffector/EM_CD4': 36, 'Memory B cells': 26, 'Trm/em_CD8': 12, 'Trm_Th1/Th17': 8, 'MAIT': 7, 'T_CD4/CD8': 5, 'Tem/emra_CD8': 4, 'Tnaive/CM_CD4_activated': 3, 'Tgd_CRTAM+': 3, 'ILC3': 3, 'Tnaive/CM_CD8': 2, 'Naive B cells': 1, 'Classical monocytes': 1, 'NK_CD56bright_CD16-': 1}\n",
      "2.877551020408163\n"
     ]
    },
    {
     "data": {
      "image/png": "[encoded data removed]",
      "text/plain": [
       "<Figure size 360x360 with 1 Axes>"
      ]
     },
     "metadata": {
      "needs_background": "light"
     },
     "output_type": "display_data"
    }
   ],
   "source": [
    "print(\"OUR MODEL\")\n",
    "wrong_dict_our_model_list = []\n",
    "for i in range(len(train_celltypes)):\n",
    "    print('\\n')\n",
    "    wrong_dict_our_model = helper_fns.print_true_positive_given_labels_and_datasets(test_true_labels=dataset_popv_pca.obs['cell_type'], test_pred_labels=test_preds, \n",
    "        train_celltype=train_celltypes[i], test_celltype=test_celltypes[i])\n",
    "    plot_dist_histogram(wrong_dict_our_model, g, list_ct, list_inner_nodes, encoder_celltype, encoder_celltype_inner, save=False, model='our_model')\n",
    "    wrong_dict_our_model_list.append(wrong_dict_our_model)\n",
    "\n",
    "print('\\n')\n",
    "print(\"Logistic Regression\")\n",
    "wrong_dict_logistic_regression_list = []\n",
    "test_preds_logistic = encoder_celltype.inverse_transform(model_logistic.predict(dataset_popv_pca.X))\n",
    "for i in range(len(train_celltypes)):\n",
    "    print('\\n')\n",
    "    wrong_dict_logistic = helper_fns.print_true_positive_given_labels_and_datasets(test_true_labels=dataset_popv_pca.obs['cell_type'], test_pred_labels=test_preds_logistic, \n",
    "        train_celltype=train_celltypes[i], test_celltype=test_celltypes[i])\n",
    "    plot_dist_histogram(wrong_dict_logistic, g, list_ct, list_inner_nodes, encoder_celltype, encoder_celltype_inner, save=False, model='logistic_regression')\n",
    "    wrong_dict_logistic_regression_list.append(wrong_dict_logistic)\n",
    "\n",
    "print('\\n')\n",
    "print(\"kNN\")\n",
    "wrong_dict_knn_list = []\n",
    "test_preds_knn = encoder_celltype.inverse_transform(model_knn.predict(dataset_popv_pca.X))\n",
    "for i in range(len(train_celltypes)):\n",
    "    print('\\n')\n",
    "    wrong_pred_knn = helper_fns.print_true_positive_given_labels_and_datasets(test_true_labels=dataset_popv_pca.obs['cell_type'], test_pred_labels=test_preds_knn, \n",
    "        train_celltype=train_celltypes[i], test_celltype=test_celltypes[i])\n",
    "    plot_dist_histogram(wrong_pred_knn, g, list_ct, list_inner_nodes, encoder_celltype, encoder_celltype_inner, save=False, model='knn')\n",
    "    wrong_dict_knn_list.append(wrong_pred_knn)"
   ]
  },
  {
   "cell_type": "code",
   "execution_count": 21,
   "metadata": {},
   "outputs": [],
   "source": [
    "df_acc = pd.DataFrame(columns=['celltype', 'true_positive_rate', 'model'])\n",
    "for i in range(len(wrong_dict_our_model_list)):\n",
    "    # Fill temp_df with the true positive rate for each cell type using pd.concat\n",
    "    a = pd.DataFrame({\n",
    "        'celltype': [wrong_dict_our_model_list[i]['Celltype'], wrong_dict_logistic_regression_list[i]['Celltype'], wrong_dict_knn_list[i]['Celltype']],\n",
    "        'true_positive_rate': [wrong_dict_our_model_list[i]['true_positive_rate'], wrong_dict_logistic_regression_list[i]['true_positive_rate'], wrong_dict_knn_list[i]['true_positive_rate']],\n",
    "        'model': ['our_model', 'logistic_regression', 'knn']\n",
    "        })\n",
    "    df_acc = pd.concat([df_acc, a], ignore_index=True)"
   ]
  },
  {
   "cell_type": "code",
   "execution_count": 26,
   "metadata": {},
   "outputs": [],
   "source": [
    "# Save igraph object g\n",
    "g.write_pickle('./results_0908/g.pkl')"
   ]
  },
  {
   "cell_type": "code",
   "execution_count": 28,
   "metadata": {},
   "outputs": [
    {
     "data": {
      "text/plain": [
       "255030"
      ]
     },
     "execution_count": 28,
     "metadata": {},
     "output_type": "execute_result"
    }
   ],
   "source": [
    "len(cv[0]['train'])"
   ]
  },
  {
   "cell_type": "code",
   "execution_count": 22,
   "metadata": {},
   "outputs": [],
   "source": [
    "df_dist = pd.DataFrame(columns=['celltype', 'pred_celltype', 'dist', 'model'])\n",
    "for n in range(len(wrong_dict_our_model_list)):\n",
    "    for key in wrong_dict_our_model_list[n].keys():\n",
    "        celltype = wrong_dict_our_model_list[n]['Celltype']\n",
    "        if key != 'Celltype' and key != 'true_positive_rate':\n",
    "            num = int(wrong_dict_our_model_list[n][key])\n",
    "            dist = helper_fns.get_shortest_dist(helper_fns.transform(key, list_ct, list_inner_nodes, encoder_celltype, encoder_celltype_inner), \n",
    "            helper_fns.transform(celltype, list_ct, list_inner_nodes, encoder_celltype, encoder_celltype_inner), g)\n",
    "            for i in range(num):\n",
    "                # concat the new row to the dataframe\n",
    "                df_dist = pd.concat([df_dist, pd.DataFrame([[celltype, key , dist, 'our_model']], columns=['celltype', 'pred_celltype', 'dist', 'model'])], ignore_index=True)\n",
    "\n",
    "    for key in wrong_dict_logistic_regression_list[n].keys():\n",
    "        celltype = wrong_dict_logistic_regression_list[n]['Celltype']\n",
    "        if key != 'Celltype' and key != 'true_positive_rate':\n",
    "            num = int(wrong_dict_logistic_regression_list[n][key])\n",
    "            dist = helper_fns.get_shortest_dist(helper_fns.transform(key, list_ct, list_inner_nodes, encoder_celltype, encoder_celltype_inner), \n",
    "            helper_fns.transform(celltype, list_ct, list_inner_nodes, encoder_celltype, encoder_celltype_inner), g)\n",
    "            for i in range(num):\n",
    "                # concat the new row to the dataframe\n",
    "                df_dist = pd.concat([df_dist, pd.DataFrame([[celltype, key , dist, 'logistic']], columns=['celltype', 'pred_celltype', 'dist', 'model'])], ignore_index=True)\n",
    "\n",
    "    for key in wrong_dict_knn_list[n].keys():\n",
    "        celltype = wrong_dict_knn_list[n]['Celltype']\n",
    "        if key != 'Celltype' and key != 'true_positive_rate':\n",
    "            num = int(wrong_dict_knn_list[n][key])\n",
    "            dist = helper_fns.get_shortest_dist(helper_fns.transform(key, list_ct, list_inner_nodes, encoder_celltype, encoder_celltype_inner), \n",
    "            helper_fns.transform(celltype, list_ct, list_inner_nodes, encoder_celltype, encoder_celltype_inner), g)\n",
    "            for i in range(num):\n",
    "                # concat the new row to the dataframe\n",
    "                df_dist = pd.concat([df_dist, pd.DataFrame([[celltype, key , dist, 'knn']], columns=['celltype', 'pred_celltype', 'dist', 'model'])], ignore_index=True)"
   ]
  },
  {
   "cell_type": "code",
   "execution_count": 24,
   "metadata": {},
   "outputs": [],
   "source": [
    "# Save label encoder\n",
    "with open('./results_0908/encoder_celltype.pickle', 'wb') as f:\n",
    "    pickle.dump(encoder_celltype, f)\n",
    "\n",
    "with open('./results_0908/encoder_celltype_inner.pickle', 'wb') as f:\n",
    "    pickle.dump(encoder_celltype_inner, f)\n",
    "\n",
    "# Save list_ct and list_inner_nodes\n",
    "with open('./results_0908/list_ct.pickle', 'wb') as f:\n",
    "    pickle.dump(list_ct, f)\n",
    "\n",
    "with open('./results_0908/list_inner_nodes.pickle', 'wb') as f:\n",
    "    pickle.dump(list_inner_nodes, f)\n",
    "\n",
    "# Save the celltypist_graph\n",
    "with open('./results_0908/celltypist_graph.pickle', 'wb') as f:\n",
    "    pickle.dump(g, f)\n"
   ]
  },
  {
   "cell_type": "code",
   "execution_count": 23,
   "metadata": {},
   "outputs": [],
   "source": [
    "mean_dist_our_model = [2.330293819655522, 2.1398416886543536, 2.671232876712329, 2.3760577915376677, 3.1973684210526314]\n",
    "mean_dist_logistic = [2.567415730337079, 2.13986013986014, 2.6486486486486487, 2.4160771704180064, 3.0558375634517767]\n",
    "mean_dist_knn = [2.4720048163756774, 2.0915805022156575, 2.6055555555555556, 2.2909618998804033, 3.0334075723830733]\n",
    "df_mean_dist = pd.DataFrame(columns=['celltype', 'mean_dist', 'model'])\n",
    "for i in range(len(mean_dist_our_model)):\n",
    "    # Fill temp_df with the true positive rate for each cell type using pd.concat\n",
    "    a = pd.DataFrame({\n",
    "        'celltype': [wrong_dict_our_model_list[i]['Celltype'], wrong_dict_logistic_regression_list[i]['Celltype'], wrong_dict_knn_list[i]['Celltype']],\n",
    "        'mean_dist': [mean_dist_our_model[i], mean_dist_logistic[i], mean_dist_knn[i]],\n",
    "        'model': ['our_model', 'logistic_regression', 'knn']\n",
    "        })\n",
    "    df_mean_dist = pd.concat([df_mean_dist, a], ignore_index=True)\n",
    "\n",
    "# train_err = [7.30, 8.498608006901154, 8.553111398658986]\n",
    "# test_err = [8.80, 9.04954658131727, 11.832815588816715]\n",
    "df_err = pd.DataFrame(columns=['error', 'model', 'type'])\n",
    "a = pd.DataFrame({\n",
    "    'error': [7.30, 8.80, 8.498608006901154, 9.04954658131727, 8.553111398658986, 11.832815588816715],\n",
    "    'model': ['our_model', 'our_model', 'logistic_regression', 'logistic_regression', 'knn', 'knn'],\n",
    "    'type': ['train', 'test', 'train', 'test', 'train', 'test']\n",
    "    })\n",
    "df_err = pd.concat([df_err, a], ignore_index=True)"
   ]
  },
  {
   "cell_type": "code",
   "execution_count": 24,
   "metadata": {},
   "outputs": [
    {
     "data": {
      "image/png": "[encoded data removed]",
      "text/plain": [
       "<Figure size 2160x432 with 3 Axes>"
      ]
     },
     "metadata": {
      "needs_background": "light"
     },
     "output_type": "display_data"
    }
   ],
   "source": [
    "fig, (ax1, ax2, ax3) = plt.subplots(1, 3, figsize=(30, 6))\n",
    "sns.barplot(x='celltype', y='mean_dist', hue='model', data=df_mean_dist, ax=ax1)\n",
    "ax1.set_title('Mean distance between true cell type and predicted cell type')\n",
    "ax1.legend(loc='upper right')\n",
    "ax2 = sns.barplot(data=df_acc, x='celltype', y='true_positive_rate', hue='model', ax=ax2)\n",
    "ax2.set_title('True Positive Rate for Each Cell Type')\n",
    "ax2.legend(loc='upper right')\n",
    "ax3 = sns.barplot(data=df_err, x='model', y='error', hue='type', ax=ax3)\n",
    "ax3.set_title('Error rate')\n",
    "ax3.legend(loc='upper right')\n",
    "plt.show()"
   ]
  },
  {
   "cell_type": "code",
   "execution_count": 25,
   "metadata": {},
   "outputs": [
    {
     "data": {
      "image/png": "[encoded data removed]",
      "text/plain": [
       "<Figure size 2880x432 with 5 Axes>"
      ]
     },
     "metadata": {
      "needs_background": "light"
     },
     "output_type": "display_data"
    }
   ],
   "source": [
    "fig, (ax1, ax2, ax3, ax4, ax5) = plt.subplots(1, 5)\n",
    "fig.set_size_inches(40, 6)\n",
    "# ax0 = sns.barplot(data=df_acc, x='celltype', y='true_positive_rate', hue='model', ax=ax0)\n",
    "# ax0.set_title('True Positive Rate for Each Cell Type')\n",
    "# ax0.legend(loc='upper right')\n",
    "sns.histplot(data=df_dist[df_dist['celltype'] == 'Memory B cells'], x=\"dist\", multiple=\"dodge\", hue=\"model\", discrete=False, binwidth=0.5, binrange=(2,6.5), ax=ax1)\n",
    "ax1.set_title('Memory B cells')\n",
    "sns.histplot(data=df_dist[df_dist['celltype'] == 'Naive B cells'], x=\"dist\", multiple=\"dodge\", hue=\"model\", discrete=False, binwidth=0.5, binrange=(2,6.5), ax=ax2)\n",
    "ax2.set_title('Naive B cells')\n",
    "sns.histplot(data=df_dist[df_dist['celltype'] == 'Tfh'], x=\"dist\", multiple=\"dodge\", hue=\"model\", discrete=False, binwidth=0.5, binrange=(2,6.5), ax=ax3)\n",
    "ax3.set_title('Tfh')\n",
    "sns.histplot(data=df_dist[df_dist['celltype'] == 'Plasma cells'], x=\"dist\", multiple=\"dodge\", hue=\"model\", discrete=False, binwidth=0.5, binrange=(2,6.5), ax=ax4)\n",
    "ax4.set_title('Plasma cells')\n",
    "sns.histplot(data=df_dist[df_dist['celltype'] == 'Tregs'], x=\"dist\", multiple=\"dodge\", hue=\"model\", discrete=False, binwidth=0.5, binrange=(2,6.5), ax=ax5)\n",
    "ax5.set_title('Tregs')\n",
    "plt.show()"
   ]
  }
 ],
 "metadata": {
  "kernelspec": {
   "display_name": "Python 3.9.12 ('base')",
   "language": "python",
   "name": "python3"
  },
  "language_info": {
   "codemirror_mode": {
    "name": "ipython",
    "version": 3
   },
   "file_extension": ".py",
   "mimetype": "text/x-python",
   "name": "python",
   "nbconvert_exporter": "python",
   "pygments_lexer": "ipython3",
   "version": "3.9.12"
  },
  "orig_nbformat": 4,
  "vscode": {
   "interpreter": {
    "hash": "0aaeaca77e89efdee26218428d2dd31f57a40a6b69cea3d9bcbfda91b95b4233"
   }
  }
 },
 "nbformat": 4,
 "nbformat_minor": 2
}
