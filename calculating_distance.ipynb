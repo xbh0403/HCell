{
 "cells": [
  {
   "cell_type": "code",
   "execution_count": 15,
   "metadata": {},
   "outputs": [],
   "source": [
    "import helper_fns\n",
    "import pandas as pd\n",
    "import numpy as np\n",
    "import scanpy as sc\n",
    "from sklearn.preprocessing import LabelEncoder\n",
    "import joblib\n",
    "import ray"
   ]
  },
  {
   "cell_type": "code",
   "execution_count": 2,
   "metadata": {},
   "outputs": [],
   "source": [
    "dataset_celltypist = sc.read(\"/Volumes/SSD/global.h5ad\")\n",
    "list_celltypes = dataset_celltypist.obs['Manually_curated_celltype'].unique().tolist()\n",
    "list_celltypes = list(filter(lambda x: x not in ['Mast cells', 'pDC','Progenitor', 'Erythroid', 'Megakaryocytes'], list_celltypes))\n",
    "list_filtered_celltypes = list(filter(lambda x: 'doublets' not in x, list_celltypes)) \n",
    "dataset_celltypist = dataset_celltypist[dataset_celltypist.obs['Manually_curated_celltype'].isin(list_filtered_celltypes)]\n",
    "\n",
    "# dataset_celltypist = sc.read(\"./pre_processed_datasets/celltypist_pca.h5ad\")\n",
    "# dataset_popv = sc.read(\"./pre_processed_datasets/popv_immune_pca.h5ad\")\n",
    "# list_celltypes = dataset_celltypist.obs['Manually_curated_celltype'].unique().tolist()\n",
    "\n",
    "encoder_celltype = LabelEncoder()\n",
    "encoder_celltype.fit(dataset_celltypist.obs['Manually_curated_celltype'])\n",
    "\n",
    "list_ct = dataset_celltypist.obs['Manually_curated_celltype'].unique().tolist()\n",
    "list_num_ct = encoder_celltype.transform(list_ct)\n",
    "list_inner_nodes = ['Cross-tissue Immune Cell Atlas', 'B cell', 'Germinal center B cell', 'Myeloid', 'Dendritic cell',\n",
    "                    'Macrophages', 'Monocytes', 'T & Innate lymphoid cells', 'CD4', 'T Naive', 'CD8', \n",
    "                    'Tissue-resident memory T (Trm) cells', 'NK']\n",
    "all_nodes = list_ct + list_inner_nodes\n",
    "\n",
    "encoder_celltype_inner = LabelEncoder()\n",
    "encoder_celltype_inner.fit(list_inner_nodes)\n",
    "\n",
    "# encoder_celltype_popv = LabelEncoder()\n",
    "# encoder_celltype_popv.fit(dataset_popv.obs['cell_type'])\n",
    "\n",
    "graph_celltypist = helper_fns.build_hierarchical_tree_celltypist(all_nodes=all_nodes, list_ct=list_ct, list_inner_nodes=list_inner_nodes, encoder_celltype=encoder_celltype, encoder_celltype_inner=encoder_celltype_inner)\n",
    "distance_matrix_celltypist = helper_fns.get_dist_df(list_num_ct=list_num_ct, g=graph_celltypist)\n",
    "celltypes = []\n",
    "for i in range(len(list_ct)):\n",
    "    celltype = helper_fns.inverse_transform(distance_matrix_celltypist.index[i], list_ct=list_ct, encoder_celltype=encoder_celltype, encoder_celltype_inner=encoder_celltype_inner)\n",
    "    celltypes.append(celltype)\n",
    "distance_matrix_celltypist.index = celltypes\n",
    "distance_matrix_celltypist.columns = celltypes"
   ]
  },
  {
   "cell_type": "code",
   "execution_count": 21,
   "metadata": {},
   "outputs": [
    {
     "data": {
      "text/plain": [
       "0"
      ]
     },
     "execution_count": 21,
     "metadata": {},
     "output_type": "execute_result"
    }
   ],
   "source": [
    "distance_matrix_celltypist.loc['Trm_Th1/Th17', 'Trm_Th1/Th17']"
   ]
  },
  {
   "cell_type": "code",
   "execution_count": 25,
   "metadata": {},
   "outputs": [],
   "source": [
    "for i in pr.unique().tolist():\n",
    "    if i not in distance_matrix_celltypist.index.tolist():\n",
    "        print(i)"
   ]
  },
  {
   "cell_type": "code",
   "execution_count": 17,
   "metadata": {},
   "outputs": [],
   "source": [
    "# load results_dict from results_0908\n",
    "results_dict = joblib.load('./results_celltypist_cv/results_celltypist_dict.pickle')"
   ]
  },
  {
   "cell_type": "code",
   "execution_count": 18,
   "metadata": {},
   "outputs": [],
   "source": [
    "celltypes_celltypist = dataset_celltypist.obs['Manually_curated_celltype'].values\n",
    "\n",
    "all_models = ['KNN', 'Logistic Regression', 'Net', 'Proto_Net', 'Proto_Net+pl', 'Proto_Net+disto', 'Proto_Net+disto_pl']\n",
    "\n",
    "# load cv\n",
    "cv = joblib.load('results_celltypist_cv/cv.pkl')\n",
    "\n",
    "all_keys = results_dict.keys()\n",
    "keys_fold_0 = [key for key in all_keys if 'fold_0' in key]\n",
    "keys_fold_1 = [key for key in all_keys if 'fold_1' in key]\n",
    "keys_fold_2 = [key for key in all_keys if 'fold_2' in key]\n",
    "keys_fold_3 = [key for key in all_keys if 'fold_3' in key]\n",
    "keys_fold_4 = [key for key in all_keys if 'fold_4' in key]\n",
    "\n",
    "true_labels_fold_0 = celltypes_celltypist[cv[0]['test']]\n",
    "true_labels_fold_1 = celltypes_celltypist[cv[1]['test']]\n",
    "true_labels_fold_2 = celltypes_celltypist[cv[2]['test']]\n",
    "true_labels_fold_3 = celltypes_celltypist[cv[3]['test']]\n",
    "true_labels_fold_4 = celltypes_celltypist[cv[4]['test']]"
   ]
  },
  {
   "cell_type": "code",
   "execution_count": null,
   "metadata": {},
   "outputs": [],
   "source": [
    "@ray.remote\n",
    "def get_distance_matrix_celltypist(model_name, true_labels, keys_fold, fold_str, fold_num):\n",
    "    distance_matrix_celltypist = pd.DataFrame(columns=['model', 'fold', 'distance'])\n",
    "    for key in keys_fold_0:\n",
    "        pred_labels = results_dict[key]\n",
    "        for i in range(len(pred_labels)):\n",
    "            dist = distance_matrix_celltypist.loc[true_labels[i], pred_labels[i]]\n",
    "            df_dist = pd.concat([df_dist, pd.DataFrame([[keys_fold[0].split(fold_str)[0], fold_num , dist]], columns=['model', 'fold', 'distance'])], ignore_index=True)\n",
    "\n",
    "    return distance_matrix_celltypist"
   ]
  },
  {
   "cell_type": "code",
   "execution_count": 26,
   "metadata": {},
   "outputs": [
    {
     "data": {
      "text/plain": [
       "'proto_disto_pl'"
      ]
     },
     "execution_count": 26,
     "metadata": {},
     "output_type": "execute_result"
    }
   ],
   "source": [
    "keys_fold_0[0].split('_fold_0')[0]"
   ]
  },
  {
   "cell_type": "code",
   "execution_count": 29,
   "metadata": {},
   "outputs": [
    {
     "name": "stdout",
     "output_type": "stream",
     "text": [
      "proto_disto_pl\n",
      "proto_disto\n",
      "proto_pl\n",
      "proto\n",
      "Net\n",
      "logistic\n",
      "knn\n"
     ]
    }
   ],
   "source": [
    "for key in keys_fold_0:\n",
    "    print()"
   ]
  },
  {
   "cell_type": "code",
   "execution_count": null,
   "metadata": {},
   "outputs": [],
   "source": [
    "df_dist = pd.DataFrame(columns=['model', 'fold', 'distance'])\n",
    "\n",
    "print('fold 0')\n",
    "for key in keys_fold_0:\n",
    "    pred_labels = results_dict[key]\n",
    "    for i in range(len(pred_labels)):\n",
    "        dist = distance_matrix_celltypist.loc[true_labels_fold_0[i], pred_labels[i]]\n",
    "        df_dist = pd.concat([df_dist, pd.DataFrame([[keys_fold_0[0].split('_fold_0')[0], 'fold_0' , dist]], columns=['model', 'fold', 'distance'])], ignore_index=True)\n",
    "\n",
    "print('fold 1')\n",
    "for key in keys_fold_1:\n",
    "    pred_labels = results_dict[key]\n",
    "    for i in range(len(pred_labels)):\n",
    "        dist = distance_matrix_celltypist.loc[true_labels_fold_1[i], pred_labels[i]]\n",
    "        df_dist = pd.concat([df_dist, pd.DataFrame([[keys_fold_1[0].split('_fold_1')[0], 'fold_1' , dist]], columns=['model', 'fold', 'distance'])], ignore_index=True)\n",
    "\n",
    "print('fold 2')\n",
    "for key in keys_fold_2:\n",
    "    pred_labels = results_dict[key]\n",
    "    for i in range(len(pred_labels)):\n",
    "        dist = distance_matrix_celltypist.loc[true_labels_fold_2[i], pred_labels[i]]\n",
    "        df_dist = pd.concat([df_dist, pd.DataFrame([[keys_fold_2[0].split('_fold_2')[0], 'fold_2' , dist]], columns=['model', 'fold', 'distance'])], ignore_index=True)\n",
    "\n",
    "print('fold 3')\n",
    "for key in keys_fold_3:\n",
    "    pred_labels = results_dict[key]\n",
    "    for i in range(len(pred_labels)):\n",
    "        dist = distance_matrix_celltypist.loc[true_labels_fold_3[i], pred_labels[i]]\n",
    "        df_dist = pd.concat([df_dist, pd.DataFrame([[keys_fold_3[0].split('_fold_3')[0], 'fold_3' , dist]], columns=['model', 'fold', 'distance'])], ignore_index=True)\n",
    "\n",
    "print('fold 4')\n",
    "for key in keys_fold_4:\n",
    "    pred_labels = results_dict[key]\n",
    "    for i in range(len(pred_labels)):\n",
    "        dist = distance_matrix_celltypist.loc[true_labels_fold_4[i], pred_labels[i]]\n",
    "        df_dist = pd.concat([df_dist, pd.DataFrame([[keys_fold_4[0].split('_fold_4')[0], 'fold_4' , dist]], columns=['model', 'fold', 'distance'])], ignore_index=True)"
   ]
  },
  {
   "cell_type": "code",
   "execution_count": 5,
   "metadata": {},
   "outputs": [],
   "source": [
    "dataset_popv = sc.read(\"/Volumes/SSD/popv_immune.h5ad\")\n",
    "dataset_popv = dataset_popv[dataset_popv.obs['cell_type'] != 'double-positive, alpha-beta thymocyte']\n",
    "list_celltypes = dataset_popv.obs['cell_type'].unique().tolist()\n",
    "\n",
    "encoder_celltype = LabelEncoder()\n",
    "encoder_celltype.fit(dataset_popv.obs['cell_type'])\n",
    "\n",
    "list_ct = dataset_popv.obs['cell_type'].unique().tolist()\n",
    "list_num_ct = encoder_celltype.transform(list_ct)\n",
    "list_inner_nodes = ['popv_immune', 'myeloid leukocyte', 'mature B cell', 'NK', 'CD4', 'CD8']\n",
    "all_nodes = list_ct + list_inner_nodes\n",
    "\n",
    "encoder_celltype_inner = LabelEncoder()\n",
    "encoder_celltype_inner.fit(list_inner_nodes)\n",
    "\n",
    "# encoder_celltype_popv = LabelEncoder()\n",
    "# encoder_celltype_popv.fit(dataset_popv.obs['cell_type'])\n",
    "\n",
    "graph_popv = helper_fns.build_hierarchical_tree_popv_immune(all_nodes=all_nodes, list_ct=list_ct, list_inner_nodes=list_inner_nodes, encoder_celltype=encoder_celltype, encoder_celltype_inner=encoder_celltype_inner)"
   ]
  },
  {
   "cell_type": "code",
   "execution_count": null,
   "metadata": {},
   "outputs": [],
   "source": []
  }
 ],
 "metadata": {
  "kernelspec": {
   "display_name": "Python 3.9.12 ('base')",
   "language": "python",
   "name": "python3"
  },
  "language_info": {
   "codemirror_mode": {
    "name": "ipython",
    "version": 3
   },
   "file_extension": ".py",
   "mimetype": "text/x-python",
   "name": "python",
   "nbconvert_exporter": "python",
   "pygments_lexer": "ipython3",
   "version": "3.9.12"
  },
  "orig_nbformat": 4,
  "vscode": {
   "interpreter": {
    "hash": "0aaeaca77e89efdee26218428d2dd31f57a40a6b69cea3d9bcbfda91b95b4233"
   }
  }
 },
 "nbformat": 4,
 "nbformat_minor": 2
}
