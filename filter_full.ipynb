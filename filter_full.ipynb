{
 "cells": [
  {
   "cell_type": "code",
   "execution_count": 5,
   "metadata": {},
   "outputs": [],
   "source": [
    "import anndata\n",
    "import numpy as np\n",
    "import helper_fns"
   ]
  },
  {
   "cell_type": "code",
   "execution_count": 7,
   "metadata": {},
   "outputs": [],
   "source": [
    "data = anndata.read(\"global.h5ad\")\n",
    "list_celltypes = data.obs['Manually_curated_celltype'].unique().tolist()\n",
    "list_celltypes = list(filter(lambda x: x not in ['Mast cells', 'pDC','Progenitor', 'Erythroid', 'Megakaryocytes'], list_celltypes))\n",
    "list_filtered_celltypes = list(filter(lambda x: 'doublets' not in x, list_celltypes)) \n",
    "data_filtered = data[data.obs['Manually_curated_celltype'].isin(list_filtered_celltypes)]"
   ]
  },
  {
   "cell_type": "code",
   "execution_count": 8,
   "metadata": {},
   "outputs": [],
   "source": [
    "train_indices, test_indices, cv = helper_fns.costumized_train_test_split(data_filtered, cross_validation=False, k_fold=6)\n",
    "filtered_data = data_filtered[test_indices]\n",
    "filtered_data.write(\"filtered_data.h5ad\")"
   ]
  },
  {
   "cell_type": "code",
   "execution_count": 9,
   "metadata": {},
   "outputs": [
    {
     "data": {
      "text/plain": [
       "37"
      ]
     },
     "execution_count": 9,
     "metadata": {},
     "output_type": "execute_result"
    }
   ],
   "source": [
    "len(filtered_data.obs['Manually_curated_celltype'].unique().tolist())"
   ]
  }
 ],
 "metadata": {
  "kernelspec": {
   "display_name": "Python 3.9.10 64-bit",
   "language": "python",
   "name": "python3"
  },
  "language_info": {
   "codemirror_mode": {
    "name": "ipython",
    "version": 3
   },
   "file_extension": ".py",
   "mimetype": "text/x-python",
   "name": "python",
   "nbconvert_exporter": "python",
   "pygments_lexer": "ipython3",
   "version": "3.9.10"
  },
  "orig_nbformat": 4,
  "vscode": {
   "interpreter": {
    "hash": "2348cd6694856b0cd2d6b81b695ed315114d0b15be6e262935473537dcdc1e9f"
   }
  }
 },
 "nbformat": 4,
 "nbformat_minor": 2
}
