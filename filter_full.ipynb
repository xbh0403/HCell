{
 "cells": [
  {
   "cell_type": "code",
   "execution_count": 1,
   "metadata": {},
   "outputs": [],
   "source": [
    "import anndata\n",
    "import numpy as np"
   ]
  },
  {
   "cell_type": "code",
   "execution_count": 2,
   "metadata": {},
   "outputs": [],
   "source": [
    "dataset = anndata.read(\"global.h5ad\")\n",
    "list_celltypes = dataset.obs['Manually_curated_celltype'].unique().tolist()\n",
    "list_celltypes = list(filter(lambda x: x not in ['Mast cells', 'pDC','Progenitor', 'Erythroid', 'Megakaryocytes'], list_celltypes))\n",
    "list_filtered_celltypes = list(filter(lambda x: 'doublets' not in x, list_celltypes)) \n",
    "data_filtered = dataset[dataset.obs['Manually_curated_celltype'].isin(list_filtered_celltypes)]"
   ]
  },
  {
   "cell_type": "code",
   "execution_count": 3,
   "metadata": {},
   "outputs": [],
   "source": [
    "indices_by_celltypes = {}\n",
    "train_indices, test_indices, cv = [], [], []\n",
    "for cell_type in data_filtered.obs['Manually_curated_celltype'].unique():\n",
    "    indices = np.where(data_filtered.obs['Manually_curated_celltype'] == cell_type)[0]\n",
    "    np.random.shuffle(indices)\n",
    "    indices_by_celltypes.update({cell_type: indices})\n",
    "    if len(indices) > 500:\n",
    "        split = int(len(indices)/6)\n",
    "        test_indices.extend(indices[:split])\n",
    "        train_indices.extend(indices[split:])\n",
    "    else:\n",
    "        test_indices.extend(indices)"
   ]
  },
  {
   "cell_type": "code",
   "execution_count": 4,
   "metadata": {},
   "outputs": [],
   "source": [
    "filtered_data = data_filtered[test_indices]\n",
    "filtered_data.write(\"filtered_data_500.h5ad\")"
   ]
  },
  {
   "cell_type": "code",
   "execution_count": 5,
   "metadata": {},
   "outputs": [
    {
     "data": {
      "text/plain": [
       "37"
      ]
     },
     "execution_count": 5,
     "metadata": {},
     "output_type": "execute_result"
    }
   ],
   "source": [
    "len(filtered_data.obs['Manually_curated_celltype'].unique().tolist())"
   ]
  }
 ],
 "metadata": {
  "kernelspec": {
   "display_name": "Python 3.9.10 64-bit",
   "language": "python",
   "name": "python3"
  },
  "language_info": {
   "codemirror_mode": {
    "name": "ipython",
    "version": 3
   },
   "file_extension": ".py",
   "mimetype": "text/x-python",
   "name": "python",
   "nbconvert_exporter": "python",
   "pygments_lexer": "ipython3",
   "version": "3.9.10"
  },
  "orig_nbformat": 4,
  "vscode": {
   "interpreter": {
    "hash": "2348cd6694856b0cd2d6b81b695ed315114d0b15be6e262935473537dcdc1e9f"
   }
  }
 },
 "nbformat": 4,
 "nbformat_minor": 2
}
