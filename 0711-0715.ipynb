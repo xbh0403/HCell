{
 "cells": [
  {
   "cell_type": "markdown",
   "metadata": {},
   "source": [
    "Week July 11 - July 15"
   ]
  },
  {
   "cell_type": "markdown",
   "metadata": {},
   "source": [
    "Tasks this week:\n",
    "1. Calculate & compare training/testing errors based on big groups.\n",
    "2. Histogram of the distances between wrongly predicted labels and the true label.\n",
    "3. Checking bactch effect for a. Cross-tissue-immune-dataset (training & testing) b. 2 colon datasets."
   ]
  },
  {
   "cell_type": "code",
   "execution_count": null,
   "metadata": {},
   "outputs": [],
   "source": []
  }
 ],
 "metadata": {
  "language_info": {
   "name": "python"
  },
  "orig_nbformat": 4
 },
 "nbformat": 4,
 "nbformat_minor": 2
}
