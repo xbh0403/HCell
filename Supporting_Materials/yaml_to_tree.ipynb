{
 "cells": [
  {
   "cell_type": "code",
   "execution_count": 2,
   "metadata": {},
   "outputs": [],
   "source": [
    "import yaml\n",
    "import sys\n",
    "import pandas as pd\n",
    "import numpy as np"
   ]
  },
  {
   "cell_type": "code",
   "execution_count": 5,
   "metadata": {},
   "outputs": [],
   "source": [
    "with open('CellTypist_Updated.yaml', 'r') as f:\n",
    "    data = yaml.safe_load(f)"
   ]
  },
  {
   "cell_type": "code",
   "execution_count": 80,
   "metadata": {},
   "outputs": [],
   "source": [
    "class Node:\n",
    "    def __init__(self, parent, data):\n",
    "        self.children = None\n",
    "        self.parent = parent\n",
    "        self.data = data\n",
    "        self.number = \n",
    "    \n",
    "    def addChild(self, child):\n",
    "        if self.children == None:\n",
    "            self.children = [child]\n",
    "        else:\n",
    "            self.children = self.children.append(child)\n",
    "\n",
    "    def addChildren(self, children):\n",
    "        if type(children) != list:\n",
    "            raise TypeError('Expect a list')\n",
    "        if self.children == None:\n",
    "            self.children = children\n",
    "        else:\n",
    "            self.children = self.children + children"
   ]
  },
  {
   "cell_type": "code",
   "execution_count": 17,
   "metadata": {},
   "outputs": [],
   "source": [
    "node = Node('B cell')"
   ]
  },
  {
   "cell_type": "code",
   "execution_count": 43,
   "metadata": {},
   "outputs": [
    {
     "data": {
      "text/plain": [
       "['Details']"
      ]
     },
     "execution_count": 43,
     "metadata": {},
     "output_type": "execute_result"
    }
   ],
   "source": [
    "list(data['Cross-tissue Immune Cell Atlas']['B cell']['ABCs'].keys())"
   ]
  },
  {
   "cell_type": "code",
   "execution_count": 81,
   "metadata": {},
   "outputs": [],
   "source": [
    "test_data = {\n",
    "        \"B cell\": {\n",
    "        'Germinal center B cell': {\n",
    "            'GC_B (I)': {\"Details\": None}\n",
    "            },\n",
    "        'Memory B cells': {\"Details\": None}\n",
    "        }\n",
    "}"
   ]
  },
  {
   "cell_type": "code",
   "execution_count": 60,
   "metadata": {},
   "outputs": [
    {
     "data": {
      "text/plain": [
       "{'GC_B (I)': {'Details': None}}"
      ]
     },
     "execution_count": 60,
     "metadata": {},
     "output_type": "execute_result"
    }
   ],
   "source": [
    "test_data['B cell']['Germinal center B cell']"
   ]
  },
  {
   "cell_type": "code",
   "execution_count": 86,
   "metadata": {},
   "outputs": [],
   "source": [
    "def buildTree(yaml_data, root):\n",
    "    yaml_data = yaml_data[root.data]\n",
    "    keys = list(yaml_data.keys())\n",
    "    if keys[0] != 'Details':\n",
    "        for i in range(len(keys)):\n",
    "            node_name = keys[i]\n",
    "            keys[i] = Node(root.data, node_name)\n",
    "            buildTree(yaml_data, keys[i])\n",
    "        root.addChildren(keys)\n",
    "    return root"
   ]
  },
  {
   "cell_type": "code",
   "execution_count": 87,
   "metadata": {},
   "outputs": [],
   "source": [
    "test_tree = buildTree(test_data, Node(None, 'B cell'))"
   ]
  },
  {
   "cell_type": "code",
   "execution_count": 109,
   "metadata": {},
   "outputs": [
    {
     "ename": "AttributeError",
     "evalue": "'str' object has no attribute 'children'",
     "output_type": "error",
     "traceback": [
      "\u001b[1;31m---------------------------------------------------------------------------\u001b[0m",
      "\u001b[1;31mAttributeError\u001b[0m                            Traceback (most recent call last)",
      "\u001b[1;32mc:\\Users\\xbh04\\Desktop\\CellTypist_Tree\\yaml_to_tree.ipynb Cell 10'\u001b[0m in \u001b[0;36m<cell line: 1>\u001b[1;34m()\u001b[0m\n\u001b[1;32m----> <a href='vscode-notebook-cell:/c%3A/Users/xbh04/Desktop/CellTypist_Tree/yaml_to_tree.ipynb#ch0000014?line=0'>1</a>\u001b[0m test_tree\u001b[39m.\u001b[39;49mchildren[\u001b[39m1\u001b[39;49m]\u001b[39m.\u001b[39;49mparent\u001b[39m.\u001b[39;49mchildren\n",
      "\u001b[1;31mAttributeError\u001b[0m: 'str' object has no attribute 'children'"
     ]
    }
   ],
   "source": [
    "test_tree.children[1].parent.children"
   ]
  },
  {
   "cell_type": "code",
   "execution_count": null,
   "metadata": {},
   "outputs": [],
   "source": [
    "def buildPairwiseDistMatrix(tree):\n",
    "    \n"
   ]
  }
 ],
 "metadata": {
  "interpreter": {
   "hash": "841965c7b580652307412a7943a0aaaeeef0ae3c0b5c60270590441d58b9e3c8"
  },
  "kernelspec": {
   "display_name": "Python 3.10.3 64-bit",
   "language": "python",
   "name": "python3"
  },
  "language_info": {
   "codemirror_mode": {
    "name": "ipython",
    "version": 3
   },
   "file_extension": ".py",
   "mimetype": "text/x-python",
   "name": "python",
   "nbconvert_exporter": "python",
   "pygments_lexer": "ipython3",
   "version": "3.10.3"
  },
  "orig_nbformat": 4
 },
 "nbformat": 4,
 "nbformat_minor": 2
}
